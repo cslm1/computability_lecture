{
  "nbformat": 4,
  "nbformat_minor": 0,
  "metadata": {
    "colab": {
      "name": "selenium_energy_made_easy.ipynb",
      "provenance": [],
      "collapsed_sections": [],
      "authorship_tag": "ABX9TyM55ccjacqxF8mVVviZ03Lo",
      "include_colab_link": true
    },
    "kernelspec": {
      "name": "python3",
      "display_name": "Python 3"
    },
    "language_info": {
      "name": "python"
    }
  },
  "cells": [
    {
      "cell_type": "markdown",
      "metadata": {
        "id": "view-in-github",
        "colab_type": "text"
      },
      "source": [
        "<a href=\"https://colab.research.google.com/github/cslm1/computability_lecture/blob/main/selenium_energy_made_easy.ipynb\" target=\"_parent\"><img src=\"https://colab.research.google.com/assets/colab-badge.svg\" alt=\"Open In Colab\"/></a>"
      ]
    },
    {
      "cell_type": "code",
      "source": [
        "# setup a headless chrome driver\n",
        "!pip install selenium\n",
        "!apt-get update # to update ubuntu to correctly run apt install\n",
        "!apt install chromium-chromedriver\n",
        "!cp /usr/lib/chromium-browser/chromedriver /usr/bin\n",
        "\n",
        "import sys\n",
        "sys.path.insert(0,'/usr/local/lib/chromium-browser/chromedriver') # check I may not need local\n",
        "from selenium import webdriver\n",
        "chrome_options = webdriver.ChromeOptions()\n",
        "chrome_options.add_argument('--headless')\n",
        "chrome_options.add_argument('--no-sandbox')\n",
        "chrome_options.add_argument('--disable-dev-shm-usage')\n",
        "wd = webdriver.Chrome('chromedriver',chrome_options=chrome_options)"
      ],
      "metadata": {
        "id": "fAb83y97XAnf"
      },
      "execution_count": null,
      "outputs": []
    },
    {
      "cell_type": "code",
      "source": [
        "# imports\n",
        "from bs4 import BeautifulSoup as bsoup\n",
        "import pandas as pd\n",
        "import time\n",
        "from selenium.webdriver.common.by import By\n",
        "from selenium.webdriver.support.ui import Select\n",
        "from selenium.webdriver.support.ui import WebDriverWait\n",
        "from selenium.webdriver.support import expected_conditions as ec\n",
        "from selenium.common.exceptions import TimeoutException as te"
      ],
      "metadata": {
        "id": "uA_dQa_5vg6L"
      },
      "execution_count": null,
      "outputs": []
    },
    {
      "cell_type": "code",
      "source": [
        "# define functions\n",
        "\n",
        "def get_provider_from_result(result):\n",
        "  provider = result.find_next(\n",
        "      \"div\", class_=\"icon-column\").find_next(\"img\")[\"aria-label\"]\n",
        "  return provider\n",
        "\n",
        "\n",
        "def get_plan_name_from_result(result):\n",
        "  plan_name = result.find_next(\"a\").string\n",
        "  return plan_name\n",
        "\n",
        "\n",
        "def get_price_from_result(result):\n",
        "  price = result.find_next(\"div\", class_=\"need-to-know-price-column\").find_next(\n",
        "      \"div\", class_=\"price-wrapper\").find_next(\"span\", class_=\"value\").string\n",
        "  return price\n",
        "\n",
        "\n",
        "def make_retail_elec_df(result, suburb, postcode):\n",
        "    df_dict = {\"suburb\": suburb,\n",
        "               \"postcode\": postcode,\n",
        "               \"provider\": [get_provider_from_result(result)],\n",
        "               \"plan_name\": [get_plan_name_from_result(result)],\n",
        "               \"price_per_year\": [get_price_from_result(result)]}\n",
        "    df = pd.DataFrame(df_dict)\n",
        "    return df\n",
        "\n",
        "\n",
        "def find_available_buttons(button):\n",
        "  return button[\"id\"]\n",
        "# another helper for clicking buttons\n",
        "\n",
        "\n",
        "def click_btn(btn):\n",
        "  wd.find_element(By.NAME, btn).click()\n",
        "\n",
        "# the beast\n",
        "\n",
        "def get_retail_prices(suburb, postcode):\n",
        "  wd.get(\"https://www.energymadeeasy.gov.au/start\")\n",
        "  time.sleep(1)\n",
        "  query_words = suburb + \" \" + postcode\n",
        "  wd.find_element(By.NAME, \"electricity\").click()\n",
        "  wd.find_element(By.ID, 'autocomplete-postcode').send_keys(query_words)\n",
        "  time.sleep(1)\n",
        "\n",
        "  # click things that are constant in all forms\n",
        "  WebDriverWait(wd, timeout=10).until(ec.presence_of_element_located(\n",
        "      (By.CLASS_NAME, \"autocomplete__results__item\")))\n",
        "  wd.find_element(By.CLASS_NAME, \"autocomplete__results__item\").click()\n",
        "  wd.find_element(By.NAME, \"2to3People\").click()\n",
        "  wd.find_element(By.NAME, \"noUsage\").click()\n",
        "\n",
        "  # because the 'Tell me about your Property' part of the form varies by suburb\n",
        "  # we first detect what buttons are available in the form\n",
        "  check_form = bsoup(wd.page_source, 'html.parser')\n",
        "  form = check_form.find(\n",
        "      \"section\", class_=\"form-section\").find_all(\"button\", class_=\"radio-button btn\")\n",
        "  # collect together all the available buttons by their id's\n",
        "  avail_btns = [find_available_buttons(btns) for btns in form]\n",
        "\n",
        "  avail_btns = list(set(avail_btns))\n",
        "  # all buttons we have encountered and the button we will press if available\n",
        "  buttons_dict = {\"id\": ['ac', 'esh', 'ewh', 'cl', 'sp', 'uh', 'pv', 'smartMeter'], \"btn_to_press\": [\n",
        "      'ac-Yes', 'esh-Yes', 'ewh-Yes', 'cl-No', 'sp-No', 'uh-No', 'pv-No', 'smartMeter-No']}\n",
        "  buttons_df = pd.DataFrame(buttons_dict)\n",
        "\n",
        "  for btn in buttons_df[buttons_df[\"id\"].isin(avail_btns)][\"btn_to_press\"]:\n",
        "    click_btn(btn)\n",
        "  # finally we just want to check whether the form has given us the electricity distributor button to press\n",
        "  distrib_required = check_form.find('div', class_='distributor')\n",
        "\n",
        "  # this choice is probably the most important for our results\n",
        "  # should we choose based on their geog/suburb?\n",
        "  if distrib_required != None:\n",
        "    if 'distributor' in distrib_required[\"class\"]:\n",
        "      dist_ele = wd.find_element(\n",
        "          By.XPATH, \"//*[@id='electricity-distributor-radio-item-0']\")\n",
        "      wd.execute_script(\"arguments[0].click()\", dist_ele)\n",
        "\n",
        "  # this should be in each form\n",
        "  retailer_drop_down = Select(wd.find_element(By.NAME, \"electricity-retailer\"))\n",
        "  retailer_drop_down.select_by_value(\"notSure\")\n",
        "\n",
        "  # accept terms of the form\n",
        "  ele = wd.find_element(By.XPATH, '//*[@id=\"acceptTerms\"]')\n",
        "  wd.execute_script(\"arguments[0].click()\", ele)\n",
        "\n",
        "  # submit the form\n",
        "  wd.find_element(By.ID, \"submit\").click()\n",
        "\n",
        "  # after the form has been submitted and results loaded we scrape the html\n",
        "  WebDriverWait(wd, timeout=30).until(\n",
        "      ec.presence_of_element_located((By.CLASS_NAME, \"results-plans\")))\n",
        "  #wd.save_screenshot(\"./progress/accept_terms.png\")\n",
        "  soup = bsoup(wd.page_source, 'html.parser')\n",
        "\n",
        "  results = soup.find_all(\"div\", class_=\"plan-results-tile\")\n",
        "  dfs = []\n",
        "  for i in results:\n",
        "    dfs.append(make_retail_elec_df(i, suburb = suburb, postcode = postcode))\n",
        "\n",
        "  return pd.concat(dfs, ignore_index=True)"
      ],
      "metadata": {
        "id": "HJS4H8A3vps6"
      },
      "execution_count": null,
      "outputs": []
    },
    {
      "cell_type": "code",
      "source": [
        "def main():\n",
        "  suburbs = pd.read_csv('electricity_areas.csv', dtype = str)\n",
        "  final = pd.DataFrame()\n",
        "  \n",
        "  for idx, row in suburbs.iterrows():\n",
        "    try:\n",
        "      cur = get_retail_prices(suburb = row['suburb'], postcode = row['postcode'])\n",
        "      final = pd.concat([final, cur], ignore_index = True)\n",
        "    except te:\n",
        "      pass\n",
        "\n",
        "  final.to_csv('output.csv', encoding = 'utf-8', index = False)\n",
        "\n",
        "# run the code in the above function.\n",
        "main()"
      ],
      "metadata": {
        "id": "o67AAHngvyc8"
      },
      "execution_count": null,
      "outputs": []
    }
  ]
}